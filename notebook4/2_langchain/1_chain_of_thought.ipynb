{
 "cells": [
  {
   "cell_type": "code",
   "execution_count": 13,
   "metadata": {},
   "outputs": [
    {
     "name": "stdout",
     "output_type": "stream",
     "text": [
      "Original Answer: \n",
      "First, we need to find out how many tomatoes Andy harvested in total:\n",
      "18 plants * 7 tomatoes per plant = 126 tomatoes\n",
      "\n",
      "Next, we need to find out how many tomatoes Andy dried:\n",
      "126 tomatoes / 2 = 63 tomatoes dried\n",
      "\n",
      "Now, we need to find out how many tomatoes are left after drying:\n",
      "126 tomatoes - 63 tomatoes = 63 tomatoes remaining\n",
      "\n",
      "Next, we need to find out how many tomatoes Andy turned into marinara sauce:\n",
      "63 tomatoes / 3 = 21 tomatoes turned into marinara sauce\n",
      "\n",
      "Finally, we need to find out how many tomatoes are left after making marinara sauce:\n",
      "63 tomatoes - 21 tomatoes = 42 tomatoes left\n",
      "\n",
      "Therefore, Andy is left with 42 tomatoes after drying half of them and turning a third of the remainder into marinara sauce.\n"
     ]
    }
   ],
   "source": [
    "from langchain.chat_models import ChatOpenAI\n",
    "from langchain.schema import HumanMessage\n",
    "from langchain.prompts import PromptTemplate\n",
    "from langchain.prompts.few_shot import FewShotPromptTemplate\n",
    "import os\n",
    "\n",
    "model_name = \"gpt-3.5-turbo\"\n",
    "temperature = 0.0\n",
    "llm = ChatOpenAI(\n",
    "    model_name=model_name,\n",
    "    temperature=temperature,\n",
    "    max_tokens = 500,\n",
    "    openai_api_key=os.getenv(\"OPENAI_API_KEY\")\n",
    ")\n",
    "\n",
    "# Note: example taken from\n",
    "# https://browse.arxiv.org/pdf/2303.12712.pdf\n",
    "\n",
    "instruction = [HumanMessage(content=\"\"\"\n",
    "Andy harvests all the tomatoes from 18 plants that have 7 tomatoes each. If he dries half the\n",
    "tomatoes and turns a third of the remainder into marinara sauce, how many tomatoes are left?\n",
    "\"\"\")]\n",
    "print(\"Original Answer: \")\n",
    "print(llm(instruction).content)"
   ]
  },
  {
   "cell_type": "code",
   "execution_count": 21,
   "metadata": {},
   "outputs": [
    {
     "name": "stdout",
     "output_type": "stream",
     "text": [
      "=== Chain of Thought Prompt ===\n",
      "[HumanMessage(content=\"\\nKaren harvests all the pears from 20 trees that have 10 pears each. She  throws a third of them away as they are rotten,\\nand turns a quarter of the remaining ones into jam. How many are left?\\n\\n\\n    First, let's calculate how many pears Gloria harvests: it's 20 * 10 = 200. \\n    Then, let's calculate how many are rotten: 200 * 1/3 = 66.\\n    Thus, we know how many are left after she throws a third of them away: 200 - 66 = 134.\\n    1/4 of the remaining ones are turned into jam, or 134 * 1/4 = 33. Therefore, Karen is left with 134 - 33, or 101 pears\\n\\n\\n\\nSergei harvests all the strawberries from 50 plants that have 8 stawberries each. He freezes a quarter of them,\\nand turns half of the remaining ones into jam. How many are left?\\n\\n\\n    First, let's calculate how many strawberries Sergei harvests: it's 50 * 8 = 400. \\n    Then, let's calculate how many are frozen: 400 * 1/4 = 100.\\n    Thus, we know how many are left after he freezes 100 of them: 400 - 100 = 300.\\n    half of the remaining ones are turned into jam, or 300 * 1/2 = 150. Therefore, Sergei is left with 300 - 150, or 150 pears\\n\\n\\nUse these questions and answers to give correct response to the problem below: [HumanMessage(content='\\\\nAndy harvests all the tomatoes from 18 plants that have 7 tomatoes each. If he dries half the\\\\ntomatoes and turns a third of the remainder into marinara sauce, how many tomatoes are left?\\\\n')]\")]\n"
     ]
    }
   ],
   "source": [
    "question1 = \"\"\"\n",
    "Karen harvests all the pears from 20 trees that have 10 pears each. She  throws a third of them away as they are rotten,\n",
    "and turns a quarter of the remaining ones into jam. How many are left?\n",
    "\"\"\"\n",
    "answer1 = \"\"\"\n",
    "    First, let's calculate how many pears Gloria harvests: it's 20 * 10 = 200. \n",
    "    Then, let's calculate how many are rotten: 200 * 1/3 = 66.\n",
    "    Thus, we know how many are left after she throws a third of them away: 200 - 66 = 134.\n",
    "    1/4 of the remaining ones are turned into jam, or 134 * 1/4 = 33. Therefore, Karen is left with 134 - 33, or 101 pears\n",
    "\"\"\"\n",
    "question2 = \"\"\"\n",
    "Sergei harvests all the strawberries from 50 plants that have 8 stawberries each. He freezes a quarter of them,\n",
    "and turns half of the remaining ones into jam. How many are left?\n",
    "\"\"\"\n",
    "answer2 = \"\"\"\n",
    "    First, let's calculate how many strawberries Sergei harvests: it's 50 * 8 = 400. \n",
    "    Then, let's calculate how many are frozen: 400 * 1/4 = 100.\n",
    "    Thus, we know how many are left after he freezes 100 of them: 400 - 100 = 300.\n",
    "    half of the remaining ones are turned into jam, or 300 * 1/2 = 150. Therefore, Sergei is left with 300 - 150, or 150 pears\n",
    "\"\"\"\n",
    "\n",
    "example_prompt = PromptTemplate(\n",
    "    input_variables=[\"question\", \"answer\"],\n",
    "    template =\"{question}\\n{answer}\"\n",
    ")\n",
    "\n",
    "examples = [\n",
    "    {\n",
    "        \"question\": question1,\n",
    "        \"answer\": answer1,\n",
    "    },\n",
    "    {\n",
    "        \"question\": question2,\n",
    "        \"answer\": answer2,\n",
    "    },\n",
    "]\n",
    "\n",
    "cot_prompt = FewShotPromptTemplate(\n",
    "    examples=examples,\n",
    "    example_prompt=example_prompt,\n",
    "    suffix=\"Use these questions and answers to give correct response to the problem below: {input}\",\n",
    "    input_variables=[\"input\"]\n",
    ")\n",
    "\n",
    "cot_text = [HumanMessage(content=cot_prompt.format(input=instruction))]\n",
    "print(\"=== Chain of Thought Prompt ===\")\n",
    "print(cot_text)"
   ]
  },
  {
   "cell_type": "code",
   "execution_count": 22,
   "metadata": {},
   "outputs": [
    {
     "name": "stdout",
     "output_type": "stream",
     "text": [
      "=== Chain of Thought Answer ===\n",
      "Andy harvests all the tomatoes from 18 plants that have 7 tomatoes each. If he dries half the tomatoes and turns a third of the remainder into marinara sauce, how many tomatoes are left?\n",
      "\n",
      "First, let's calculate how many tomatoes Andy harvests: it's 18 * 7 = 126.\n",
      "Then, let's calculate how many are dried: 126 * 1/2 = 63.\n",
      "Thus, we know how many are left after he dries 63 of them: 126 - 63 = 63.\n",
      "A third of the remaining ones are turned into marinara sauce, or 63 * 1/3 = 21. Therefore, Andy is left with 63 - 21, or 42 tomatoes.\n"
     ]
    }
   ],
   "source": [
    "print(\"=== Chain of Thought Answer ===\")\n",
    "print(llm(cot_text).content)"
   ]
  },
  {
   "cell_type": "code",
   "execution_count": null,
   "metadata": {},
   "outputs": [],
   "source": []
  }
 ],
 "metadata": {
  "kernelspec": {
   "display_name": "Python 3 (ipykernel)",
   "language": "python",
   "name": "python3"
  },
  "language_info": {
   "codemirror_mode": {
    "name": "ipython",
    "version": 3
   },
   "file_extension": ".py",
   "mimetype": "text/x-python",
   "name": "python",
   "nbconvert_exporter": "python",
   "pygments_lexer": "ipython3",
   "version": "3.12.3"
  }
 },
 "nbformat": 4,
 "nbformat_minor": 4
}
